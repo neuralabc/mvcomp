{
 "cells": [
  {
   "cell_type": "code",
   "execution_count": 6,
   "metadata": {},
   "outputs": [],
   "source": [
    "from glob import glob\n",
    "import sys\n",
    "sys.path.append('../')\n",
    "import mvcomp as mvc\n",
    "import nibabel as nb\n",
    "import numpy as np\n",
    "from matplotlib import pyplot as plt\n"
   ]
  },
  {
   "cell_type": "markdown",
   "metadata": {},
   "source": [
    "# Generate false data\n",
    "- pull data for three contrasts from one individual from nitrc\n",
    "    - https://www.nitrc.org/frs/?group_id=1205#\n",
    "- use this individual's three metrics as a toy example, modifying each metric by noise\n",
    "\n",
    "```text\n",
    " sub001_sess1_INV2.nii.gz\n",
    "22.95 MB\t660\tAny\t.gz\t10.1038/sdata.2014.54\n",
    " \t\n",
    " sub001_sess1_T1map.nii.gz\n",
    "40.05 MB\t684\tAny\t.gz\t10.1038/sdata.2014.54\n",
    " \t\n",
    " sub001_sess1_T1w.nii.gz\n",
    "43.06 MB\t677\tAny\t.gz\t10.1038/sdata.2014.54\n",
    "\n",
    "...\n",
    "```"
   ]
  },
  {
   "cell_type": "code",
   "execution_count": 3,
   "metadata": {},
   "outputs": [
    {
     "name": "stdout",
     "output_type": "stream",
     "text": [
      "(240, 320, 320)\n",
      "./sub002_sess1_INV2.nii.gz\n",
      "(240, 320, 320)\n",
      "./sub002_sess1_T1w.nii.gz\n",
      "(240, 320, 320)\n",
      "./sub002_sess1_T1map.nii.gz\n",
      "(240, 320, 320)\n",
      "./sub003_sess1_INV2.nii.gz\n",
      "(240, 320, 320)\n",
      "./sub003_sess1_T1w.nii.gz\n",
      "(240, 320, 320)\n",
      "./sub003_sess1_T1map.nii.gz\n",
      "(240, 320, 320)\n",
      "new_ID: sub004 should be an outlier\n",
      "./sub004_sess1_INV2.nii.gz\n",
      "(240, 320, 320)\n",
      "new_ID: sub004 should be an outlier\n",
      "./sub004_sess1_T1w.nii.gz\n",
      "(240, 320, 320)\n",
      "new_ID: sub004 should be an outlier\n",
      "./sub004_sess1_T1map.nii.gz\n"
     ]
    }
   ],
   "source": [
    "# simulate data by simply multiplying the one subject by noise\n",
    "# here we make the final subject MUCH more different (by scaling the noise by 10) to\n",
    "# ensure that we can distinguish them properly by their D2\n",
    "\n",
    "ID='sub001'\n",
    "s1 = glob('./sub001*')\n",
    "idx=2\n",
    "for rep in range(3):\n",
    "    idx2 = rep+idx\n",
    "    for s in s1:\n",
    "        new_ID = ID.replace(\"1\",str(idx2))\n",
    "        img = nb.load(s)\n",
    "        d=img.get_fdata()\n",
    "        print(img.shape)\n",
    "        d[np.isnan(d)]=0\n",
    "        d[np.isinf(d)]=0\n",
    "        if rep == 2:\n",
    "            print(f\"new_ID: {new_ID} should be an outlier\")\n",
    "            scale=10 #create an outlier\n",
    "        else:\n",
    "            scale=1 \n",
    "        d=d*scale*np.random.random(d.shape) #scale up the data\n",
    "        out_fname = s.replace(ID,new_ID)\n",
    "        print(out_fname)\n",
    "        out_img = nb.Nifti1Image(d,affine=img.affine,header=img.header)\n",
    "        out_img.update_header()\n",
    "        out_img.to_filename(out_fname)\n"
   ]
  },
  {
   "cell_type": "code",
   "execution_count": 4,
   "metadata": {},
   "outputs": [
    {
     "name": "stdout",
     "output_type": "stream",
     "text": [
      "[['./sub001_sess1_INV2.nii.gz', './sub001_sess1_T1w.nii.gz', './sub001_sess1_T1map.nii.gz'], ['./sub002_sess1_T1map.nii.gz', './sub002_sess1_T1w.nii.gz', './sub002_sess1_INV2.nii.gz'], ['./sub003_sess1_INV2.nii.gz', './sub003_sess1_T1map.nii.gz', './sub003_sess1_T1w.nii.gz'], ['./sub004_sess1_INV2.nii.gz', './sub004_sess1_T1map.nii.gz', './sub004_sess1_T1w.nii.gz']]\n",
      "No 'model_feature_image_list' was provided\n",
      "\t- Model features will be iteratively computed as the mean of all other subjects (leave one out)\n",
      "subject None feature matrix creation in 5.66 s\n",
      "subject None feature matrix creation in 5.9 s\n",
      "subject None feature matrix creation in 5.9 s\n",
      "subject None feature matrix creation in 6.03 s\n",
      "Total time for mahalanobis distance calculation on 4 subjects with 4702024 voxels: 7.03s\n"
     ]
    }
   ],
   "source": [
    "s1 = glob('./sub001*')\n",
    "s2 = glob('./sub002*')\n",
    "s3 = glob('./sub003*')\n",
    "s4 = glob('./sub004*')\n",
    "all_Ss = [s1,s2,s3,s4]\n",
    "print(all_Ss)\n",
    "\n",
    "img = nb.load(s1[0])\n",
    "_mask_d = (img.get_fdata()>100).astype(int)\n",
    "mask_img = nb.Nifti1Image(_mask_d,affine=img.affine,header=img.header)\n",
    "res = mvc.model_comp_simplified(all_Ss,mask=mask_img,verbosity=2)"
   ]
  },
  {
   "cell_type": "code",
   "execution_count": 15,
   "metadata": {},
   "outputs": [
    {
     "data": {
      "text/plain": [
       "<matplotlib.legend.Legend at 0x764b90ce38b0>"
      ]
     },
     "execution_count": 15,
     "metadata": {},
     "output_type": "execute_result"
    },
    {
     "data": {
      "image/png": "[encoded data removed]",
      "text/plain": [
       "<Figure size 720x504 with 1 Axes>"
      ]
     },
     "metadata": {
      "needs_background": "light"
     },
     "output_type": "display_data"
    },
    {
     "data": {
      "image/png": "[encoded data removed]",
      "text/plain": [
       "<Figure size 720x504 with 1 Axes>"
      ]
     },
     "metadata": {
      "needs_background": "light"
     },
     "output_type": "display_data"
    }
   ],
   "source": [
    "plt.figure(figsize=(10,7))\n",
    "for idx in range(res['all_dist'].shape[-1])[::-1]: #reverse this, so that the one with more distance is plotted on the backgroun\n",
    "    plt.hist(res['all_dist'][:,idx],bins=100,alpha=0.2, label=idx)\n",
    "plt.legend()\n",
    "\n",
    "plt.figure(figsize=(10,7))\n",
    "for idx in range(res['all_dist'].shape[-1])[::-1]: #reverse this, so that the one with more distance is plotted on the backgroun\n",
    "    plt.hist(res['all_dist'][:,idx],bins=100,alpha=0.2, label=idx)\n",
    "\n",
    "plt.xlim(0,500)\n",
    "plt.legend()"
   ]
  },
  {
   "cell_type": "code",
   "execution_count": 16,
   "metadata": {},
   "outputs": [
    {
     "name": "stdout",
     "output_type": "stream",
     "text": [
      "4259246379.799023\n",
      "17036985519.196093\n"
     ]
    }
   ],
   "source": [
    "D2_mean = res['all_dist'].mean(axis=-1)\n",
    "print(D2_mean.sum())\n",
    "out_d = np.zeros(img.shape)\n",
    "out_d[_mask_d.astype(bool)] = D2_mean\n",
    "    \n",
    "out_img = nb.Nifti1Image(out_d,affine=img.affine,header=img.header)\n",
    "out_img.update_header()\n",
    "out_img.to_filename(f'./all_mean_D2.nii.gz')\n",
    "\n",
    "\n",
    "D2_sum = res['all_dist'].sum(axis=-1)\n",
    "print(D2_sum.sum())\n",
    "out_d = np.zeros(img.shape)\n",
    "out_d[_mask_d.astype(bool)] = D2_sum\n",
    "    \n",
    "out_img = nb.Nifti1Image(out_d,affine=img.affine,header=img.header)\n",
    "out_img.update_header()\n",
    "out_img.to_filename(f'./all_sum_D2.nii.gz')\n",
    "\n",
    "for idx in range(res['all_dist'].shape[-1]):\n",
    "    out_d = np.zeros(img.shape)\n",
    "    out_d[_mask_d.astype(bool)] = res['all_dist'][:,idx]\n",
    "    out_img = nb.Nifti1Image(out_d,affine=img.affine,header=img.header)\n",
    "    out_img.update_header()\n",
    "    out_img.to_filename(f'./{str(idx+1).zfill(3)}_D2.nii.gz')"
   ]
  },
  {
   "cell_type": "code",
   "execution_count": null,
   "metadata": {},
   "outputs": [],
   "source": []
  }
 ],
 "metadata": {
  "kernelspec": {
   "display_name": "py3p9",
   "language": "python",
   "name": "python3"
  },
  "language_info": {
   "codemirror_mode": {
    "name": "ipython",
    "version": 3
   },
   "file_extension": ".py",
   "mimetype": "text/x-python",
   "name": "python",
   "nbconvert_exporter": "python",
   "pygments_lexer": "ipython3",
   "version": "3.9.7"
  }
 },
 "nbformat": 4,
 "nbformat_minor": 2
}
