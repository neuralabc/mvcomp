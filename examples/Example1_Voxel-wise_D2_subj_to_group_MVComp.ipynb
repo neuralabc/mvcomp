{
 "cells": [
  {
   "cell_type": "code",
   "execution_count": 1,
   "metadata": {},
   "outputs": [],
   "source": [
    "import sys\n",
    "from urllib.request import urlretrieve\n",
    "import os\n",
    "sys.path.append(f'..{os.sep}')\n",
    "import mvcomp as mvc\n",
    "import glob\n",
    "import numpy as np\n",
    "import nibabel as nb\n",
    "import matplotlib.pyplot as plt\n",
    "from scipy.spatial.distance import mahalanobis as scipy_md"
   ]
  },
  {
   "cell_type": "markdown",
   "metadata": {},
   "source": [
    "# Test data\n",
    "## Import data\n",
    "- import a single subject's test data (3 features)"
   ]
  },
  {
   "cell_type": "code",
   "execution_count": 2,
   "metadata": {},
   "outputs": [
    {
     "name": "stdout",
     "output_type": "stream",
     "text": [
      "../local_extras/sample_MRI/001/inv2.nii.gz exists already, not downloading again!\n",
      "../local_extras/sample_MRI/001/T1map.nii.gz exists already, not downloading again!\n",
      "../local_extras/sample_MRI/001/T1w.nii.gz exists already, not downloading again!\n"
     ]
    }
   ],
   "source": [
    "# import a single subject's data for testing\n",
    "# here we use the data posted by Gorgolewski and colleagues, and then manipulate it to generate sample data for additional subjects\n",
    "#   includes inv2, T1map, and T1w data, as defined in : https://github.com/nighres/nighres/blob/master/nighres/data/download_data.py\n",
    "\"\"\" Gorgolewski et al (2015). A high resolution 7-Tesla resting-state\n",
    "       fMRI test-retest dataset with cognitive and physiological measures.\n",
    "       DOI: 10.1038/sdata.2014.\n",
    "\"\"\"\n",
    "\n",
    "# with the standard approach we expect each subject to have its own folder (denoted by its ID) and have each feature file within that folder\n",
    "\n",
    "# 1) download the data and save in the expected format, subdirectories for each subject with feature files\n",
    "feature_source_dir = f\"..{os.sep}local_extras{os.sep}sample_MRI\"\n",
    "if not os.path.exists(feature_source_dir):\n",
    "    os.makedirs(feature_source_dir)\n",
    "\n",
    "url = 'https://www.nitrc.org/frs/download.php/'\n",
    "ID = '001'\n",
    "sub_ID_num_string = '001' \n",
    "d_types = ['inv2','T1map','T1w']\n",
    "\n",
    "d_files_source = [url + d_ref for d_ref in ['10234', '10235', '10236']]\n",
    "local_fnames =  [d_type + \".nii.gz\" for d_type in d_types]\n",
    "\n",
    "#generate subdirectory for specific subject\n",
    "sub_dir = os.path.join(feature_source_dir,ID) \n",
    "if not os.path.exists(sub_dir):\n",
    "    os.makedirs(sub_dir)\n",
    "\n",
    "target_fnames = [os.path.join(sub_dir,fname) for fname in local_fnames]\n",
    "\n",
    "for source,target in zip(d_files_source,target_fnames):\n",
    "    if os.path.exists(target):\n",
    "        print(f'{target} exists already, not downloading again!')\n",
    "    else:\n",
    "        print(f'Downloading {source} to {target}')\n",
    "        urlretrieve(source,target)\n"
   ]
  },
  {
   "cell_type": "markdown",
   "metadata": {},
   "source": [
    "## Generate additional subjects\n",
    "- all data for D2 comparisons with `mvcomp` should be in the same space\n",
    "- create noisy versions of the original dataset so that we have a controlled dataset that is in the same space for testing\n",
    "  - we generate subjects that are close (i.e., will have low D2) by multiplying the original data by random noise (per feature)\n",
    "  - we also generate one subject (the last one) that is very far from the others using the `scale` variable below (again, per feature)"
   ]
  },
  {
   "cell_type": "code",
   "execution_count": 3,
   "metadata": {},
   "outputs": [
    {
     "name": "stdout",
     "output_type": "stream",
     "text": [
      "../local_extras/sample_MRI/002/inv2.nii.gz exists, not overwriting\n",
      "../local_extras/sample_MRI/002/T1map.nii.gz exists, not overwriting\n",
      "../local_extras/sample_MRI/002/T1w.nii.gz exists, not overwriting\n",
      "../local_extras/sample_MRI/003/inv2.nii.gz exists, not overwriting\n",
      "../local_extras/sample_MRI/003/T1map.nii.gz exists, not overwriting\n",
      "../local_extras/sample_MRI/003/T1w.nii.gz exists, not overwriting\n",
      "new_ID: 004 will be an outlier\n",
      "../local_extras/sample_MRI/004/inv2.nii.gz exists, not overwriting\n",
      "../local_extras/sample_MRI/004/T1map.nii.gz exists, not overwriting\n",
      "../local_extras/sample_MRI/004/T1w.nii.gz exists, not overwriting\n"
     ]
    }
   ],
   "source": [
    "# simulate data by simply multiplying the one subject by noise\n",
    "# here we make the final subject MUCH more different (by scaling the noise by 10) to\n",
    "# ensure that we can distinguish them by their D2\n",
    "\n",
    "CLOBBER=False #set to true to overwrite generated data\n",
    "num_extra_subs = 3\n",
    "s1 = target_fnames\n",
    "IDs = [ID]\n",
    "idx=2 #start index for next subject\n",
    "for rep in range(num_extra_subs):\n",
    "    idx2 = rep+idx\n",
    "    new_ID = ID.replace(sub_ID_num_string,str(idx2).zfill(3))\n",
    "    IDs.append(new_ID)\n",
    "    if rep == (num_extra_subs-1):\n",
    "        print(f\"new_ID: {new_ID} will be an outlier\")\n",
    "        scale=5 #create an outlier by scaling the data (all features in this case to show a massive effect)\n",
    "    else:\n",
    "        scale=1\n",
    "\n",
    "    if not os.path.exists(sub_dir):\n",
    "        os.makedirs(sub_dir)\n",
    "    \n",
    "    s_idx = 0\n",
    "    for s in s1:\n",
    "        out_fname = s.replace(ID,new_ID)\n",
    "        if os.path.exists(out_fname) and not(CLOBBER):\n",
    "            print(f'{out_fname} exists, not overwriting')\n",
    "        else:\n",
    "            img = nb.load(s)\n",
    "            d=img.get_fdata()\n",
    "            \n",
    "            #remove any nan and inf values, if present\n",
    "            d[np.isnan(d)]=0\n",
    "            d[np.isinf(d)]=0\n",
    "    \n",
    "            d=d*scale*np.random.random(d.shape) #scale up the data\n",
    "            \n",
    "            out_fname_dir = os.path.dirname(out_fname)\n",
    "            if not os.path.exists(out_fname_dir):\n",
    "                os.makedirs(out_fname_dir)\n",
    "            print(out_fname)\n",
    "            out_img = nb.Nifti1Image(d,affine=img.affine,header=img.header)\n",
    "            out_img.update_header()\n",
    "            out_img.to_filename(out_fname)\n",
    "        s_idx += 1"
   ]
  },
  {
   "cell_type": "markdown",
   "metadata": {},
   "source": [
    "# Mahalanobis distance setup and computation\n",
    "## Computing the feature averages\n",
    "- it is necessary to define feature averages in the group that is being used as the reference"
   ]
  },
  {
   "cell_type": "code",
   "execution_count": 4,
   "metadata": {},
   "outputs": [
    {
     "name": "stdout",
     "output_type": "stream",
     "text": [
      "features are ['inv2', 'T1map', 'T1w']\n",
      "================================\n",
      "working on inv2\n",
      "Found 4 inv2 files, concatenating\n"
     ]
    },
    {
     "name": "stderr",
     "output_type": "stream",
     "text": [
      "sizeof_hdr should be 540; set sizeof_hdr to 540\n"
     ]
    },
    {
     "name": "stdout",
     "output_type": "stream",
     "text": [
      "shape of concatenated images is (240, 320, 320, 4)\n",
      "computing mean on the 4th axis, for 4 subjects\n",
      "shape of the average image is (240, 320, 320)\n",
      "saving to ../local_extras/sample_MRI/grp_avg/inv2_4average.nii.gz\n",
      "------------------------------\n",
      "working on T1map\n",
      "Found 4 T1map files, concatenating\n"
     ]
    },
    {
     "name": "stderr",
     "output_type": "stream",
     "text": [
      "sizeof_hdr should be 540; set sizeof_hdr to 540\n"
     ]
    },
    {
     "name": "stdout",
     "output_type": "stream",
     "text": [
      "shape of concatenated images is (240, 320, 320, 4)\n",
      "computing mean on the 4th axis, for 4 subjects\n",
      "shape of the average image is (240, 320, 320)\n",
      "saving to ../local_extras/sample_MRI/grp_avg/T1map_4average.nii.gz\n",
      "------------------------------\n",
      "working on T1w\n",
      "Found 4 T1w files, concatenating\n"
     ]
    },
    {
     "name": "stderr",
     "output_type": "stream",
     "text": [
      "sizeof_hdr should be 540; set sizeof_hdr to 540\n"
     ]
    },
    {
     "name": "stdout",
     "output_type": "stream",
     "text": [
      "shape of concatenated images is (240, 320, 320, 4)\n",
      "computing mean on the 4th axis, for 4 subjects\n",
      "shape of the average image is (240, 320, 320)\n",
      "saving to ../local_extras/sample_MRI/grp_avg/T1w_4average.nii.gz\n",
      "------------------------------\n",
      "averages saved to ../local_extras/sample_MRI/grp_avg\n"
     ]
    }
   ],
   "source": [
    "#setup for the analysis\n",
    "# use compute_average to compute feature averages\n",
    "in_dir = feature_source_dir\n",
    "out_dir = os.path.join(feature_source_dir,'grp_avg')\n",
    "if not os.path.exists(out_dir):\n",
    "    os.makedirs(out_dir)\n",
    "mvc.compute_average(ids=IDs, in_dir=in_dir, out_dir=out_dir, features=d_types,\n",
    "                feature_suffix=\".nii.gz\", verbose=1)\n"
   ]
  },
  {
   "cell_type": "markdown",
   "metadata": {},
   "source": [
    "## Mask generation\n",
    "- masks should be generated based on the region of interest for the analysis\n",
    "- in this case, we do not have a mask available from other processing (e.g., tissue segmentation) \n",
    "  - we use a simple threshold on the original input dataset to define the mask\n",
    "  - _masks should be rigorously defined for real data_"
   ]
  },
  {
   "cell_type": "code",
   "execution_count": 5,
   "metadata": {},
   "outputs": [
    {
     "name": "stdout",
     "output_type": "stream",
     "text": [
      "../local_extras/sample_MRI/mask.nii.gz\n"
     ]
    }
   ],
   "source": [
    "# generate a mask from the first feature of the first subject\n",
    "# for expedience, this is just a thresholded and binarized image\n",
    "# normally this would be based on a parcellation (e.g., all WM)\n",
    "\n",
    "img = nb.load(s1[0])\n",
    "_mask_d = (img.get_fdata()>100).astype(int)\n",
    "mask_img = nb.Nifti1Image(_mask_d,affine=img.affine,header=img.header)\n",
    "mask_fname = os.path.join(feature_source_dir,'mask.nii.gz')\n",
    "mask_img.to_filename(mask_fname)\n",
    "print(mask_fname)"
   ]
  },
  {
   "cell_type": "markdown",
   "metadata": {},
   "source": [
    "## Extract feature matrix from reference group\n",
    "- this matrix can be used later (see below) to define the mean and covariance of the reference data"
   ]
  },
  {
   "cell_type": "code",
   "execution_count": 6,
   "metadata": {},
   "outputs": [
    {
     "name": "stdout",
     "output_type": "stream",
     "text": [
      "Features are :  ['T1map', 'T1w', 'inv2']\n",
      "['T1map', 'T1w', 'inv2']\n",
      "['../local_extras/sample_MRI/grp_avg/T1map_4average.nii.gz', '../local_extras/sample_MRI/grp_avg/T1w_4average.nii.gz', '../local_extras/sample_MRI/grp_avg/inv2_4average.nii.gz']\n"
     ]
    },
    {
     "name": "stderr",
     "output_type": "stream",
     "text": [
      "sizeof_hdr should be 348; set sizeof_hdr to 348\n",
      "sizeof_hdr should be 348; set sizeof_hdr to 348\n",
      "sizeof_hdr should be 348; set sizeof_hdr to 348\n"
     ]
    },
    {
     "name": "stdout",
     "output_type": "stream",
     "text": [
      "reference feature matrix shape is:  (4702024, 3)\n"
     ]
    }
   ],
   "source": [
    "#retrieve the suffix for the average that will be used for the reference\n",
    "excluded_features = []\n",
    "reference_dir = out_dir\n",
    "reference_suffix = os.path.basename(glob.glob(os.path.join(out_dir,\"*\"))[0]).split(d_types[0])[-1]\n",
    "\n",
    "# collect the reference images into a list\n",
    "reference_fullpath_list, reference_fname_list = mvc.feature_list(reference_dir, reference_suffix, \n",
    "                                                             excluded_features)\n",
    "\n",
    "print(reference_fname_list)\n",
    "print(reference_fullpath_list)\n",
    "\n",
    "# generate matrices of the reference features and the masks, with a desired threshold as necessary\n",
    "# in this example the mask is binary so there is no effect\n",
    "m_f_mat, mask_img, mat_mask = mvc.feature_gen(reference_fullpath_list, mask_image_fname = mask_fname, \n",
    "                                          mask_threshold = 0.99) \n",
    "\n",
    "print(\"reference feature matrix shape is: \", m_f_mat.shape)\n"
   ]
  },
  {
   "cell_type": "markdown",
   "metadata": {},
   "source": [
    "### Compute and plot covariance/correlation\n",
    "- to identify the bivariate relationships between measures in the reference dataset"
   ]
  },
  {
   "cell_type": "code",
   "execution_count": 7,
   "metadata": {},
   "outputs": [
    {
     "data": {
      "image/png": "[encoded data removed]",
      "text/plain": [
       "<Figure size 800x600 with 2 Axes>"
      ]
     },
     "metadata": {},
     "output_type": "display_data"
    }
   ],
   "source": [
    "# we can now plot the covariance and correlation of your features should you want to inspect them \n",
    "# Calculate covariance (s) and inverse of covariance (pinv_s) of the reference's feature matrix\n",
    "s, pinv_s = mvc.norm_covar_inv(m_f_mat, mat_mask)\n",
    "\n",
    "# Show correlation coefficient map \n",
    "mvc.correlation_fig(s, reference_fname_list)"
   ]
  },
  {
   "cell_type": "markdown",
   "metadata": {},
   "source": [
    "## Compute D2\n",
    "- there are multiple approaches to compute the D2 of subjects in relation to a reference group\n",
    "- in this case we have only one group, so we would utilize the leave-one-out comparison approach\n",
    "### Leave-one-out D2 computation\n",
    "- compute D2 within a single group, where the reference group is defined as all subjects except the one who's D2 values are being computed\n",
    "  - this takes some time as the mean and covariance matrix are computed uniquely for each comparison"
   ]
  },
  {
   "cell_type": "code",
   "execution_count": 9,
   "metadata": {},
   "outputs": [
    {
     "name": "stdout",
     "output_type": "stream",
     "text": [
      "['001', '002', '003', '004']\n",
      "Features are :  ['T1map', 'T1w', 'inv2']\n",
      "Feature: T1map\n",
      "-- Full comp path name identified as: ../local_extras/sample_MRI/001/*T1map*.nii.gz\n",
      "Feature: T1w\n",
      "-- Full comp path name identified as: ../local_extras/sample_MRI/001/*T1w*.nii.gz\n",
      "Feature: inv2\n",
      "-- Full comp path name identified as: ../local_extras/sample_MRI/001/*inv2*.nii.gz\n",
      "subject 001 feature matrix creation in 2.92 s\n",
      "Feature: T1map\n",
      "-- Full comp path name identified as: ../local_extras/sample_MRI/002/*T1map*.nii.gz\n",
      "Feature: T1w\n",
      "-- Full comp path name identified as: ../local_extras/sample_MRI/002/*T1w*.nii.gz\n",
      "Feature: inv2\n",
      "-- Full comp path name identified as: ../local_extras/sample_MRI/002/*inv2*.nii.gz\n",
      "subject 002 feature matrix creation in 2.95 s\n",
      "Feature: T1map\n",
      "-- Full comp path name identified as: ../local_extras/sample_MRI/003/*T1map*.nii.gz\n",
      "Feature: T1w\n",
      "-- Full comp path name identified as: ../local_extras/sample_MRI/003/*T1w*.nii.gz\n",
      "Feature: inv2\n",
      "-- Full comp path name identified as: ../local_extras/sample_MRI/003/*inv2*.nii.gz\n",
      "subject 003 feature matrix creation in 2.87 s\n",
      "Feature: T1map\n",
      "-- Full comp path name identified as: ../local_extras/sample_MRI/004/*T1map*.nii.gz\n",
      "Feature: T1w\n",
      "-- Full comp path name identified as: ../local_extras/sample_MRI/004/*T1w*.nii.gz\n",
      "Feature: inv2\n",
      "-- Full comp path name identified as: ../local_extras/sample_MRI/004/*inv2*.nii.gz\n",
      "subject 004 feature matrix creation in 2.91 s\n",
      "Total time for mahalanobis distance calculation on 4        subjects with 4702024 voxels: 3.18s\n",
      "(4702024, 4)\n"
     ]
    }
   ],
   "source": [
    "# Compute D2 (with leave-one-out approach; exclude_comp_from_mean_cov= True)\n",
    "result_dict = mvc.model_comp(feature_in_dir= feature_source_dir, model_dir= None, \n",
    "                                 suffix_name_comp= \".nii.gz\", \n",
    "                                 exclude_comp_from_mean_cov= True, \n",
    "                                 mask_f= mask_fname, mask_img= None, verbosity=2, \n",
    "                                 mask_threshold=0.99, subject_ids= IDs, \n",
    "                                 exclude_subject_ids= None, feat_sub= excluded_features, \n",
    "                                 return_raw=False)\n",
    "\n",
    "# results are stored in a dictionary, can access array of D2 data (of all subjects) like this:\n",
    "all_D2 = result_dict['all_dist']\n",
    "all_mask = result_dict['all_mask']\n",
    "print(all_D2.shape) # Shape will be (number of voxels) x (number of subjects)\n",
    "\n",
    "# Save matrix containing all D2 data as a numpy array\n",
    "\n",
    "# np.save('../local_extras/D2_all_subjects.npy', all_D2)\n"
   ]
  },
  {
   "cell_type": "markdown",
   "metadata": {},
   "source": [
    "#### Plot results\n",
    "- plot histograms of each individual's D2 scores (within the mask)\n",
    "- here we should find that the distributions of all sujects except the last have similar distributions\n",
    "  - the last subject will have very large D2 scores due to our `scale` factor "
   ]
  },
  {
   "cell_type": "code",
   "execution_count": 10,
   "metadata": {},
   "outputs": [
    {
     "data": {
      "text/plain": [
       "(0.0, 100.0)"
      ]
     },
     "execution_count": 10,
     "metadata": {},
     "output_type": "execute_result"
    },
    {
     "data": {
      "image/png": "[encoded data removed]",
      "text/plain": [
       "<Figure size 500x300 with 1 Axes>"
      ]
     },
     "metadata": {},
     "output_type": "display_data"
    },
    {
     "data": {
      "image/png": "[encoded data removed]",
      "text/plain": [
       "<Figure size 500x300 with 1 Axes>"
      ]
     },
     "metadata": {},
     "output_type": "display_data"
    }
   ],
   "source": [
    "# we can plot all individuals histograms of D2 values, the outlier should have a distribution far outside of the others\n",
    "common_mask = all_mask.sum(axis=1) == all_mask.shape[1] #generate a common mask, in case some subjects did not have data in some locations\n",
    "plt.figure(figsize=(5,3))\n",
    "for idx in range(all_D2.shape[1]):\n",
    "    vec = all_D2[common_mask,idx]\n",
    "    plt.hist(vec,label=str(IDs[idx]),alpha=0.25,bins=100)\n",
    "plt.legend()\n",
    "plt.title('Histogram of D2 for all subjects')\n",
    "plt.xlabel('D2')\n",
    "plt.ylabel('Count')\n",
    "\n",
    "plt.figure(figsize=(5,3))\n",
    "for idx in range(all_D2.shape[1]):\n",
    "    vec = all_D2[common_mask,idx]\n",
    "    plt.hist(vec,label=str(IDs[idx]),alpha=0.25,bins=100)\n",
    "plt.legend()\n",
    "plt.title('Histogram of D2 for all subjects (zoomed in)')\n",
    "plt.xlabel('D2')\n",
    "plt.ylabel('Count')\n",
    "plt.xlim(0,100)"
   ]
  },
  {
   "cell_type": "code",
   "execution_count": 11,
   "metadata": {},
   "outputs": [
    {
     "name": "stdout",
     "output_type": "stream",
     "text": [
      "[2.2317714906848436, 8.959313947521034, 8.957439189619327, 469.9108214101939]\n"
     ]
    },
    {
     "data": {
      "image/png": "[encoded data removed]",
      "text/plain": [
       "<Figure size 500x300 with 1 Axes>"
      ]
     },
     "metadata": {},
     "output_type": "display_data"
    }
   ],
   "source": [
    "# we can also plot the mean of D2 values within the mask to see if our manipulation worked\n",
    "# the last subject should be an outlier, with the others exhibiting random variation\n",
    "common_mask = all_mask.sum(axis=1) == all_mask.shape[1]\n",
    "mean_d2 = []\n",
    "for idx in range(all_D2.shape[1]):\n",
    "    vec = all_D2[common_mask,idx]\n",
    "    mean_d2.append(vec.mean())\n",
    "plt.figure(figsize=(5,3))\n",
    "plt.plot(mean_d2,'o')\n",
    "plt.title('Total D2 (in mask) for all subjects')\n",
    "plt.xlabel('Subject index')\n",
    "plt.ylabel('D2')\n",
    "print(mean_d2)"
   ]
  },
  {
   "cell_type": "markdown",
   "metadata": {},
   "source": [
    "#### Determining feature importance\n",
    "- we may want to know which feature or features are most important within a given voxel or region\n",
    "- set `return_raw=True` in `model_comp` to return per-feature values\n",
    "  - note that the sum of these values within each voxel = D2\n",
    "- this example plots the mean across all voxels, but it is likely more informative with real data to select a region of interest and investigate which features are contributing to the D2 scores\n",
    "  - e.g., if a significant difference in D2 was identified in the PFC in older adults, this approach could identify which feature(s) are driving that difference"
   ]
  },
  {
   "cell_type": "code",
   "execution_count": 12,
   "metadata": {},
   "outputs": [
    {
     "name": "stdout",
     "output_type": "stream",
     "text": [
      "['001', '002', '003', '004']\n",
      "Features are :  ['T1map', 'T1w', 'inv2']\n",
      "Feature: T1map\n",
      "-- Full comp path name identified as: ../local_extras/sample_MRI/001/*T1map*.nii.gz\n",
      "Feature: T1w\n",
      "-- Full comp path name identified as: ../local_extras/sample_MRI/001/*T1w*.nii.gz\n",
      "Feature: inv2\n",
      "-- Full comp path name identified as: ../local_extras/sample_MRI/001/*inv2*.nii.gz\n",
      "subject 001 feature matrix creation in 2.91 s\n",
      "Feature: T1map\n",
      "-- Full comp path name identified as: ../local_extras/sample_MRI/002/*T1map*.nii.gz\n",
      "Feature: T1w\n",
      "-- Full comp path name identified as: ../local_extras/sample_MRI/002/*T1w*.nii.gz\n",
      "Feature: inv2\n",
      "-- Full comp path name identified as: ../local_extras/sample_MRI/002/*inv2*.nii.gz\n",
      "subject 002 feature matrix creation in 2.86 s\n",
      "Feature: T1map\n",
      "-- Full comp path name identified as: ../local_extras/sample_MRI/003/*T1map*.nii.gz\n",
      "Feature: T1w\n",
      "-- Full comp path name identified as: ../local_extras/sample_MRI/003/*T1w*.nii.gz\n",
      "Feature: inv2\n",
      "-- Full comp path name identified as: ../local_extras/sample_MRI/003/*inv2*.nii.gz\n",
      "subject 003 feature matrix creation in 2.95 s\n",
      "Feature: T1map\n",
      "-- Full comp path name identified as: ../local_extras/sample_MRI/004/*T1map*.nii.gz\n",
      "Feature: T1w\n",
      "-- Full comp path name identified as: ../local_extras/sample_MRI/004/*T1w*.nii.gz\n",
      "Feature: inv2\n",
      "-- Full comp path name identified as: ../local_extras/sample_MRI/004/*inv2*.nii.gz\n",
      "subject 004 feature matrix creation in 2.86 s\n",
      "Total time for mahalanobis distance calculation on 4        subjects with 4702024 voxels: 3.13s\n",
      "(4702024, 3, 4)\n"
     ]
    }
   ],
   "source": [
    "# Extracting distances per feature (raw) using the return_raw=True option of model_comp\n",
    "result_dict_2 = mvc.model_comp(feature_in_dir= feature_source_dir, model_dir= None, \n",
    "                                 suffix_name_comp= \".nii.gz\", \n",
    "                                 exclude_comp_from_mean_cov= True, \n",
    "                                 mask_f= mask_fname, mask_img= None, verbosity=2, \n",
    "                                 mask_threshold=0.99, subject_ids= IDs, \n",
    "                                 exclude_subject_ids= None, feat_sub= excluded_features, \n",
    "                                 return_raw=True)\n",
    "\n",
    "# results are stored in a dictionary, can access array of D2 data (of all subjects) like this:\n",
    "all_D2_2 = result_dict_2['all_dist']\n",
    "all_mask_2 = result_dict_2['all_mask']\n",
    "raw_D2_2 = result_dict_2['raw_dist']\n",
    "print(raw_D2_2.shape) # Shape will be (number of voxels) x (number of subjects)\n"
   ]
  },
  {
   "cell_type": "code",
   "execution_count": 13,
   "metadata": {},
   "outputs": [
    {
     "data": {
      "text/plain": [
       "<BarContainer object of 3 artists>"
      ]
     },
     "execution_count": 13,
     "metadata": {},
     "output_type": "execute_result"
    },
    {
     "data": {
      "image/png": "[encoded data removed]",
      "text/plain": [
       "<Figure size 500x300 with 1 Axes>"
      ]
     },
     "metadata": {},
     "output_type": "display_data"
    }
   ],
   "source": [
    "# We can plot the mean raw distances for the mean of our sample\n",
    "plt.figure(figsize=(5,3))\n",
    "mean_feature_importance = raw_D2_2.mean(axis=2)\n",
    "roi_mean = mean_feature_importance.mean(axis=0)\n",
    "plt.bar(result_dict_2[\"feature_names\"],roi_mean)\n"
   ]
  },
  {
   "cell_type": "markdown",
   "metadata": {},
   "source": [
    "# Simplified computational approach\n",
    "- to enhance flexibility, we have also implemented a `simplified` approach that does not rely on a specific directory structure or filename convention\n",
    "  - however, as there are **no checks** that the data is correctly ordered, it is absolutely crucial that all inputs are confirmed to be ordered in exactly the same way\n",
    "- input files can be specified as lists of lists\n",
    "  - features must be listed in the same order for all individuals"
   ]
  },
  {
   "cell_type": "markdown",
   "metadata": {},
   "source": [
    "## Compute D2\n",
    "### Leave-one-out D2 computation"
   ]
  },
  {
   "cell_type": "code",
   "execution_count": 14,
   "metadata": {},
   "outputs": [
    {
     "name": "stdout",
     "output_type": "stream",
     "text": [
      "['../local_extras/sample_MRI/001/T1w.nii.gz', '../local_extras/sample_MRI/001/inv2.nii.gz', '../local_extras/sample_MRI/001/T1map.nii.gz']\n",
      "['../local_extras/sample_MRI/002/T1w.nii.gz', '../local_extras/sample_MRI/002/inv2.nii.gz', '../local_extras/sample_MRI/002/T1map.nii.gz']\n",
      "['../local_extras/sample_MRI/003/T1w.nii.gz', '../local_extras/sample_MRI/003/inv2.nii.gz', '../local_extras/sample_MRI/003/T1map.nii.gz']\n",
      "['../local_extras/sample_MRI/004/T1w.nii.gz', '../local_extras/sample_MRI/004/inv2.nii.gz', '../local_extras/sample_MRI/004/T1map.nii.gz']\n",
      "No 'model_feature_image_list' was provided\n",
      "\t- Model features will be iteratively computed as the mean of all other subjects (leave one out)\n",
      "subject None feature matrix creation in 2.92 s\n",
      "subject None feature matrix creation in 2.95 s\n",
      "subject None feature matrix creation in 2.99 s\n",
      "subject None feature matrix creation in 2.97 s\n",
      "Total time for mahalanobis distance calculation on 4        subjects with 4702024 voxels: 3.25s\n"
     ]
    }
   ],
   "source": [
    "# we can do this equivalently with the simplified approach by passing lists of lists\n",
    "s1 = glob.glob(os.path.join(feature_source_dir,f'001{os.sep}*'))\n",
    "s2 = glob.glob(os.path.join(feature_source_dir,f'002{os.sep}*'))\n",
    "s3 = glob.glob(os.path.join(feature_source_dir,f'003{os.sep}*'))\n",
    "s4 = glob.glob(os.path.join(feature_source_dir,f'004{os.sep}*'))\n",
    "all_Ss = [s1,s2,s3,s4] \n",
    "#check the ordering of inputs manually\n",
    "for S in all_Ss:\n",
    "    print(S)\n",
    "\n",
    "res = mvc.model_comp_simplified(all_Ss,mask=mask_fname,verbosity=2)"
   ]
  },
  {
   "cell_type": "markdown",
   "metadata": {},
   "source": [
    "#### Plot results"
   ]
  },
  {
   "cell_type": "code",
   "execution_count": 15,
   "metadata": {},
   "outputs": [
    {
     "data": {
      "text/plain": [
       "<matplotlib.legend.Legend at 0x7751b75543d0>"
      ]
     },
     "execution_count": 15,
     "metadata": {},
     "output_type": "execute_result"
    },
    {
     "data": {
      "image/png": "[encoded data removed]",
      "text/plain": [
       "<Figure size 500x300 with 1 Axes>"
      ]
     },
     "metadata": {},
     "output_type": "display_data"
    },
    {
     "data": {
      "image/png": "[encoded data removed]",
      "text/plain": [
       "<Figure size 500x300 with 1 Axes>"
      ]
     },
     "metadata": {},
     "output_type": "display_data"
    }
   ],
   "source": [
    "plt.figure(figsize=(5,3))\n",
    "for idx in range(res['all_dist'].shape[-1])[::-1]: #reverse this, so that the one with more distance is plotted on the backgroun\n",
    "    plt.hist(res['all_dist'][:,idx],bins=100,alpha=0.2, label=idx)\n",
    "plt.legend()\n",
    "\n",
    "plt.figure(figsize=(5,3))\n",
    "for idx in range(res['all_dist'].shape[-1])[::-1]: #reverse this, so that the one with more distance is plotted on the backgroun\n",
    "    plt.hist(res['all_dist'][:,idx],bins=100,alpha=0.2, label=idx)\n",
    "\n",
    "plt.xlim(0,100)\n",
    "plt.legend()"
   ]
  },
  {
   "cell_type": "code",
   "execution_count": 16,
   "metadata": {},
   "outputs": [
    {
     "name": "stdout",
     "output_type": "stream",
     "text": [
      "[2.2317714906848427, 8.959313947521036, 8.957439189619313, 469.9108214101939]\n"
     ]
    },
    {
     "data": {
      "image/png": "[encoded data removed]",
      "text/plain": [
       "<Figure size 500x300 with 1 Axes>"
      ]
     },
     "metadata": {},
     "output_type": "display_data"
    }
   ],
   "source": [
    "# we can also plot the mean of D2 values within the mask to see if our manipulation worked\n",
    "# the last subject should be an outlier, with the others exhibiting random variation\n",
    "common_mask = res['all_mask'].sum(axis=1) == res['all_mask'].shape[1]\n",
    "mean_d2_simplified = []\n",
    "for idx in range(res['all_dist'].shape[1]):\n",
    "    vec =res['all_dist'][common_mask,idx]\n",
    "    mean_d2_simplified.append(vec.mean())\n",
    "plt.figure(figsize=(5,3))\n",
    "plt.plot(mean_d2_simplified,'o')\n",
    "plt.title('Total D2 (in mask) for all subjects')\n",
    "plt.xlabel('Subject index')\n",
    "plt.ylabel('D2')\n",
    "print(mean_d2_simplified)"
   ]
  },
  {
   "cell_type": "markdown",
   "metadata": {},
   "source": [
    "# Compare D2 values between different approaches\n",
    "## Standard vs Simplified approach"
   ]
  },
  {
   "cell_type": "code",
   "execution_count": 17,
   "metadata": {},
   "outputs": [
    {
     "name": "stdout",
     "output_type": "stream",
     "text": [
      "True\n",
      "True\n"
     ]
    }
   ],
   "source": [
    "# check that the original and simplified approaches return the same values\n",
    "print(np.allclose(mean_d2,mean_d2_simplified))\n",
    "print(np.allclose(all_D2,res['all_dist']))"
   ]
  },
  {
   "cell_type": "markdown",
   "metadata": {},
   "source": [
    "## Simplified vs Scipy implementation\n",
    "- in this case we compare to the reference (mean of all subjects)\n",
    "  - this allows us to use the same covariance matrix for our approach and the scipy approach\n",
    "\n",
    "### Simplified approach\n"
   ]
  },
  {
   "cell_type": "code",
   "execution_count": 18,
   "metadata": {},
   "outputs": [
    {
     "name": "stdout",
     "output_type": "stream",
     "text": [
      "You provided a list of features to serve as the model comparison\n",
      "\t- All computed D2 values will be relative to the provided model\n"
     ]
    },
    {
     "name": "stderr",
     "output_type": "stream",
     "text": [
      "sizeof_hdr should be 348; set sizeof_hdr to 348\n",
      "sizeof_hdr should be 348; set sizeof_hdr to 348\n",
      "sizeof_hdr should be 348; set sizeof_hdr to 348\n"
     ]
    },
    {
     "name": "stdout",
     "output_type": "stream",
     "text": [
      "subject None feature matrix creation in 2.28 s\n",
      "subject None feature matrix creation in 2.28 s\n",
      "subject None feature matrix creation in 2.24 s\n",
      "subject None feature matrix creation in 2.18 s\n",
      "Total time for mahalanobis distance calculation on 4        subjects with 4702024 voxels: 0.702s\n"
     ]
    }
   ],
   "source": [
    "# we use the mean of all as the reference this time, since we already have precomputed the s and pinv_s for use in scipy function\n",
    "res_grp = mvc.model_comp_simplified(all_Ss,mask=mask_fname,verbosity=2,model_feature_image_fname_list=reference_fullpath_list)"
   ]
  },
  {
   "cell_type": "markdown",
   "metadata": {},
   "source": [
    "### Scipy approach\n",
    "1. manually pull the feature data here for input to `scipy` function (we could also have taken it from `m_f_mat` directly)\n",
    "2. compute D with `scipy.spatial.distance.mahalanobis`\n",
    "3. compare, after squaring D from the scipy approach"
   ]
  },
  {
   "cell_type": "code",
   "execution_count": 19,
   "metadata": {},
   "outputs": [
    {
     "name": "stdout",
     "output_type": "stream",
     "text": [
      "../local_extras/sample_MRI/001/T1w.nii.gz\n",
      "../local_extras/sample_MRI/001/inv2.nii.gz\n",
      "../local_extras/sample_MRI/001/T1map.nii.gz\n",
      "(4702024, 3)\n"
     ]
    }
   ],
   "source": [
    "#grab some data manually, using the first subject\n",
    "#preset our data\n",
    "img = nb.load(mask_fname)\n",
    "d_mask = img.get_fdata()>0\n",
    "num_vox = d_mask.sum()\n",
    "\n",
    "s1_d = np.zeros((num_vox,len(s1)))*np.nan\n",
    "for idx,feat in enumerate(s1):\n",
    "    print(feat)\n",
    "    s1_d[:,idx] = nb.load(feat).get_fdata()[d_mask]\n",
    "print(s1_d.shape)\n",
    "    "
   ]
  },
  {
   "cell_type": "code",
   "execution_count": 20,
   "metadata": {},
   "outputs": [],
   "source": [
    "#scipy returns the unsquared version of distance\n",
    "scipy_md_res = np.zeros(num_vox)*np.nan\n",
    "for vox in np.arange(num_vox):\n",
    "    scipy_md_res[vox]=scipy_md(s1_d[vox,:],m_f_mat[vox,:],pinv_s)\n"
   ]
  },
  {
   "cell_type": "code",
   "execution_count": 21,
   "metadata": {},
   "outputs": [
    {
     "name": "stdout",
     "output_type": "stream",
     "text": [
      "True\n"
     ]
    },
    {
     "data": {
      "image/png": "[encoded data removed]",
      "text/plain": [
       "<Figure size 640x480 with 1 Axes>"
      ]
     },
     "metadata": {},
     "output_type": "display_data"
    }
   ],
   "source": [
    "#compare mvc results to scipy results (requires squaring of scipy results)\n",
    "mvc_md2_res = res_grp['all_dist'][:,0]\n",
    "plt.plot(mvc_md2_res,scipy_md_res**2,'.')\n",
    "print(np.allclose(mvc_md2_res,scipy_md_res**2))"
   ]
  }
 ],
 "metadata": {
  "kernelspec": {
   "display_name": "base",
   "language": "python",
   "name": "python3"
  },
  "language_info": {
   "codemirror_mode": {
    "name": "ipython",
    "version": 3
   },
   "file_extension": ".py",
   "mimetype": "text/x-python",
   "name": "python",
   "nbconvert_exporter": "python",
   "pygments_lexer": "ipython3",
   "version": "3.9.16"
  }
 },
 "nbformat": 4,
 "nbformat_minor": 4
}
