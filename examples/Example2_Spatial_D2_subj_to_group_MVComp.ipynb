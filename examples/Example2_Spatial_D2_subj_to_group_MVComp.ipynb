{
 "cells": [
  {
   "cell_type": "code",
   "execution_count": 1,
   "metadata": {},
   "outputs": [],
   "source": [
    "import sys\n",
    "sys.path.append('../')\n",
    "from mvcomp import *\n",
    "\n",
    "import os\n",
    "from os.path import join, basename\n",
    "\n",
    "import glob"
   ]
  },
  {
   "cell_type": "code",
   "execution_count": 4,
   "metadata": {},
   "outputs": [],
   "source": [
    "# Define your input data (subjects X tracts/ROIs) e.g., FA in each WM tract of interest for all subjects\n",
    "# E.g., FA for 20 subjects, in 12 WM tracts\n",
    "\n",
    "# Let subjects_matrix by your matrix of FA values for all tracts per subject (typically between 0.5-0.9 (20 x 12))\n",
    "\n",
    "subjects_matrix = np.random.uniform(0.5,0.9,(20,12))"
   ]
  },
  {
   "cell_type": "markdown",
   "metadata": {},
   "source": [
    "# Computing D2"
   ]
  },
  {
   "cell_type": "code",
   "execution_count": 9,
   "metadata": {},
   "outputs": [
    {
     "name": "stdout",
     "output_type": "stream",
     "text": [
      "(20,)\n"
     ]
    }
   ],
   "source": [
    "result_dict = spatial_mvcomp(subjects_matrix, return_raw=False, exclude_comp_from_mean_cov=True)\n",
    "\n",
    "# results are stored in a dictionary, can access array of D2 data (of all subjects) like this:\n",
    "all_D2 = result_dict['all_dist']\n",
    "print(all_D2.shape) # Shape will be (number of subjects) x 1 (one D2 value per subject)\n",
    "\n",
    "# Save matrix containing all D2 data as a numpy array\n",
    "\n",
    "np.save('/project/Analyses/D2_all_subjects.npy', all_D2)"
   ]
  },
  {
   "cell_type": "markdown",
   "metadata": {},
   "source": [
    "# Determining feature importance"
   ]
  },
  {
   "cell_type": "code",
   "execution_count": 12,
   "metadata": {},
   "outputs": [
    {
     "name": "stdout",
     "output_type": "stream",
     "text": [
      "(20, 12)\n"
     ]
    }
   ],
   "source": [
    "result_dict = spatial_mvcomp(subjects_matrix, return_raw=True, exclude_comp_from_mean_cov=True)\n",
    "\n",
    "# results are stored in a dictionary, can access array of D2 data (of all subjects) like this:\n",
    "raw_D2 = result_dict['raw_dist']\n",
    "print(raw_D2.shape) # Shape will be (number of subjects) x (number of tracts) \n",
    "\n",
    "# The raw distances can then be summarized to obtain the relative contribution of each feature/tract\n",
    "np.save('/project/Analyses/raw_dist_all_subjects.npy', raw_D2)"
   ]
  },
  {
   "cell_type": "code",
   "execution_count": null,
   "metadata": {},
   "outputs": [],
   "source": []
  }
 ],
 "metadata": {
  "kernelspec": {
   "display_name": "Python 3",
   "language": "python",
   "name": "python3"
  },
  "language_info": {
   "codemirror_mode": {
    "name": "ipython",
    "version": 3
   },
   "file_extension": ".py",
   "mimetype": "text/x-python",
   "name": "python",
   "nbconvert_exporter": "python",
   "pygments_lexer": "ipython3",
   "version": "3.8.5"
  }
 },
 "nbformat": 4,
 "nbformat_minor": 4
}
