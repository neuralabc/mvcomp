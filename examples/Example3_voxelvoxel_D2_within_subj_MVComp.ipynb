{
 "cells": [
  {
   "cell_type": "code",
   "execution_count": 1,
   "metadata": {},
   "outputs": [],
   "source": [
    "import sys\n",
    "sys.path.append('../')\n",
    "from mvcomp import *\n",
    "\n",
    "import os\n",
    "from os.path import join, basename\n",
    "\n",
    "import glob"
   ]
  },
  {
   "cell_type": "markdown",
   "metadata": {},
   "source": [
    "# Define the path to subject directory"
   ]
  },
  {
   "cell_type": "code",
   "execution_count": 4,
   "metadata": {},
   "outputs": [],
   "source": [
    "# indicate what is the subject path where all the feature images are located\n",
    "_subject_path = \"/project/data/subject007\"\n",
    "P_folders = glob.glob(join(_subject_path,'*'))"
   ]
  },
  {
   "cell_type": "markdown",
   "metadata": {},
   "source": [
    "# Computing D2"
   ]
  },
  {
   "cell_type": "code",
   "execution_count": 9,
   "metadata": {},
   "outputs": [
    {
     "name": "stdout",
     "output_type": "stream",
     "text": [
      "(20,)\n"
     ]
    }
   ],
   "source": [
    "result_D2 = voxel2voxel_dist(subdir= P_folders,suffix_name_comp = \".nii.gz\", mask_f = \"subject_mask.nii.gz\", \n",
    "                               mask_threshold = .9, feat_sub = [\"feature10\"])\n",
    "\n",
    "print(result_D2.shape) # Shape will be (number of voxels) x (number of voxels)\n",
    "\n",
    "# Save matrix containing all D2 data as a numpy array\n",
    "\n",
    "np.save('/project/Analyses/D2_sub007_voxvox_subjects.npy', result_D2)"
   ]
  }
 ],
 "metadata": {
  "kernelspec": {
   "display_name": "Python 3",
   "language": "python",
   "name": "python3"
  },
  "language_info": {
   "codemirror_mode": {
    "name": "ipython",
    "version": 3
   },
   "file_extension": ".py",
   "mimetype": "text/x-python",
   "name": "python",
   "nbconvert_exporter": "python",
   "pygments_lexer": "ipython3",
   "version": "3.8.5"
  }
 },
 "nbformat": 4,
 "nbformat_minor": 4
}
